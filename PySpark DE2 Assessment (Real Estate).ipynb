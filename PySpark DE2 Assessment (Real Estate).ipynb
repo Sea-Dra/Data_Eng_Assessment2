{
 "cells": [
  {
   "cell_type": "markdown",
   "metadata": {
    "id": "syjvhtFLj2g1"
   },
   "source": [
    "#  Real Estate (PySpark): DE2 Assessment\n",
    "## Pre-Requisites\n",
    "### Install pyspark\n"
   ]
  },
  {
   "cell_type": "code",
   "execution_count": 1,
   "metadata": {
    "colab": {
     "base_uri": "https://localhost:8080/"
    },
    "executionInfo": {
     "elapsed": 47227,
     "status": "ok",
     "timestamp": 1677518884206,
     "user": {
      "displayName": "Reza Rad",
      "userId": "10585007686252894559"
     },
     "user_tz": 300
    },
    "id": "5zNTtoFueQ4F",
    "outputId": "19667bd1-80fb-4617-8962-d827a5730eba",
    "tags": []
   },
   "outputs": [
    {
     "name": "stdout",
     "output_type": "stream",
     "text": [
      "Requirement already satisfied: pyspark in /usr/local/spark/python (3.5.0)\n",
      "Collecting py4j==0.10.9.7 (from pyspark)\n",
      "  Downloading py4j-0.10.9.7-py2.py3-none-any.whl.metadata (1.5 kB)\n",
      "Downloading py4j-0.10.9.7-py2.py3-none-any.whl (200 kB)\n",
      "\u001b[2K   \u001b[90m━━━━━━━━━━━━━━━━━━━━━━━━━━━━━━━━━━━━━━━━\u001b[0m \u001b[32m200.5/200.5 kB\u001b[0m \u001b[31m2.0 MB/s\u001b[0m eta \u001b[36m0:00:00\u001b[0ma \u001b[36m0:00:01\u001b[0m\n",
      "\u001b[?25hInstalling collected packages: py4j\n",
      "Successfully installed py4j-0.10.9.7\n",
      "Note: you may need to restart the kernel to use updated packages.\n"
     ]
    }
   ],
   "source": [
    "%pip install pyspark"
   ]
  },
  {
   "cell_type": "markdown",
   "metadata": {
    "id": "sj0MSt29kJLV"
   },
   "source": [
    "### Create a SparkSession"
   ]
  },
  {
   "cell_type": "code",
   "execution_count": 3,
   "metadata": {
    "id": "t-U2OzkteXH-",
    "scrolled": true,
    "tags": []
   },
   "outputs": [
    {
     "data": {
      "text/html": [
       "\n",
       "            <div>\n",
       "                <p><b>SparkSession - in-memory</b></p>\n",
       "                \n",
       "        <div>\n",
       "            <p><b>SparkContext</b></p>\n",
       "\n",
       "            <p><a href=\"http://88adc85dad39:4040\">Spark UI</a></p>\n",
       "\n",
       "            <dl>\n",
       "              <dt>Version</dt>\n",
       "                <dd><code>v3.5.0</code></dd>\n",
       "              <dt>Master</dt>\n",
       "                <dd><code>local[*]</code></dd>\n",
       "              <dt>AppName</dt>\n",
       "                <dd><code>RealEstates</code></dd>\n",
       "            </dl>\n",
       "        </div>\n",
       "        \n",
       "            </div>\n",
       "        "
      ],
      "text/plain": [
       "<pyspark.sql.session.SparkSession at 0x7f6371fe5bd0>"
      ]
     },
     "execution_count": 3,
     "metadata": {},
     "output_type": "execute_result"
    }
   ],
   "source": [
    "from pyspark.sql import SparkSession\n",
    "import pyspark.sql.functions as F\n",
    "\n",
    "spark = SparkSession.builder.appName(\"RealEstates\").getOrCreate()\n",
    "\n",
    "spark"
   ]
  },
  {
   "cell_type": "markdown",
   "metadata": {
    "id": "sbLtQUXGkwHu"
   },
   "source": [
    "## Question 1: Import the Real Estate Sales Parquet File into a Spark DataFrame object\n",
    "\n",
    "Make sure your add the `Real_Estate_Sales_2001-2020_GL.parquet` file to your current working directory"
   ]
  },
  {
   "cell_type": "code",
   "execution_count": 5,
   "metadata": {
    "id": "JfaFTUxXkwHw",
    "tags": []
   },
   "outputs": [],
   "source": [
    "file_location = './Real_Estate_Sales_2001-2020_GL.parquet'"
   ]
  },
  {
   "cell_type": "code",
   "execution_count": 6,
   "metadata": {
    "id": "cGu9USgEkwHx",
    "tags": []
   },
   "outputs": [
    {
     "name": "stdout",
     "output_type": "stream",
     "text": [
      "+-------------+---------+-------------+----------+--------------------+--------------+-----------+-----------+-------------+----------------+------------------+--------------------+-----------+--------------------+\n",
      "|serial_number|list_year|date_recorded|      town|             address|assessed_value|sale_amount|sales_ratio|property_type|residential_type|      non_use_code|    assessor_remarks|opm_remarks|            location|\n",
      "+-------------+---------+-------------+----------+--------------------+--------------+-----------+-----------+-------------+----------------+------------------+--------------------+-----------+--------------------+\n",
      "|      2020348|     2020|   09/13/2021|   Ansonia|     230 WAKELEE AVE|      150500.0|   325000.0|      0.463|   Commercial|            NULL|              NULL|                NULL|       NULL|                NULL|\n",
      "|        20002|     2020|   10/02/2020|   Ashford|     390 TURNPIKE RD|      253000.0|   430000.0|     0.5883|  Residential|   Single Family|              NULL|                NULL|       NULL|                NULL|\n",
      "|       200212|     2020|   03/09/2021|      Avon|    5 CHESTNUT DRIVE|      130400.0|   179900.0|     0.7248|  Residential|           Condo|              NULL|                NULL|       NULL|                NULL|\n",
      "|       200243|     2020|   04/13/2021|      Avon|111 NORTHINGTON D...|      619290.0|   890000.0|     0.6958|  Residential|   Single Family|              NULL|                NULL|       NULL|                NULL|\n",
      "|       200377|     2020|   07/02/2021|      Avon|  70 FAR HILLS DRIVE|      862330.0|  1447500.0|     0.5957|  Residential|   Single Family|              NULL|                NULL|       NULL|                NULL|\n",
      "|       200109|     2020|   12/09/2020|      Avon|  57 FAR HILLS DRIVE|      847520.0|  1250000.0|      0.678|  Residential|   Single Family|              NULL|                NULL|       NULL|                NULL|\n",
      "|      2020180|     2020|   03/01/2021|    Berlin| 1539 FARMINGTON AVE|      234200.0|   130000.0|     1.8015|  Residential|      Two Family|08 - Part Interest|                NULL|       NULL|                NULL|\n",
      "|      2020313|     2020|   07/01/2021|    Berlin|   216 WATCH HILL RD|      412000.0|   677500.0|     0.6081|  Residential|   Single Family|              NULL|                NULL|       NULL|                NULL|\n",
      "|       200097|     2020|   06/04/2021|   Bethany|         23 AMITY RD|      511000.0|   795000.0|     0.6427|   Commercial|            NULL|              NULL|                NULL|       NULL|                NULL|\n",
      "|        20139|     2020|   12/16/2020|    Bethel|   16 DEEPWOOD DRIVE|      171360.0|   335000.0|     0.5115|  Residential|   Single Family|              NULL|                NULL|       NULL|                NULL|\n",
      "|       200086|     2020|   08/10/2021| Bethlehem|      39 WOODLAND RD|      168900.0|   352000.0|     0.4798|  Residential|   Single Family|              NULL|                NULL|       NULL|POINT (-73.18197 ...|\n",
      "|      2000381|     2020|   09/13/2021|Bloomfield|      9 SADDLE RIDGE|      163730.0|   250000.0|     0.6549|  Residential|           Condo|              NULL|                NULL|       NULL|                NULL|\n",
      "|       200258|     2020|   01/22/2021|  Branford|34 SUNRISE COVE CAMP|      530500.0|   700000.0|     0.7578|  Residential|   Single Family|              NULL|WATERFRONT/COTTAG...|       NULL|                NULL|\n",
      "|       200804|     2020|   09/28/2021|  Branford|    119 MONTOWESE ST|      455100.0|   650000.0|     0.7001|   Commercial|            NULL|              NULL|                NULL|       NULL|                NULL|\n",
      "|       201295|     2020|   09/09/2021|   Bristol|         609 CAMP ST|      144340.0|   249900.0|     0.5775|  Residential|   Single Family|              NULL|                NULL|       NULL|                NULL|\n",
      "|       200032|     2020|   10/08/2020|   Bristol|      9 LESLIE COURT|       94920.0|   155000.0|     0.6123|  Residential|   Single Family|              NULL|                NULL|       NULL|                NULL|\n",
      "|       200354|     2020|   12/29/2020|   Bristol|      391 TIFFANY LA|      173740.0|   299000.0|      0.581|  Residential|   Single Family|              NULL|                NULL|       NULL|                NULL|\n",
      "|       200527|     2020|   03/01/2021|   Bristol|          25 WARD ST|       85680.0|   183000.0|     0.4681|  Residential|      Two Family|              NULL|                NULL|       NULL|                NULL|\n",
      "|       201212|     2020|   08/23/2021|   Bristol|     8 JENNINGS TERR|       88060.0|    91000.0|     0.9676|  Residential|   Single Family|  14 - Foreclosure|FORECLOSURE SALE ...|       NULL|                NULL|\n",
      "|     20000050|     2020|   11/05/2020|Brookfield|        4 CHELSEA CT|      105110.0|   160000.0|  0.6569375|  Residential|           Condo|              NULL|                NULL|       NULL|                NULL|\n",
      "+-------------+---------+-------------+----------+--------------------+--------------+-----------+-----------+-------------+----------------+------------------+--------------------+-----------+--------------------+\n",
      "only showing top 20 rows\n",
      "\n"
     ]
    }
   ],
   "source": [
    "# write your solution here\n",
    "\n",
    "df = spark.read.parquet(file_location)\n",
    "\n",
    "df.show()\n"
   ]
  },
  {
   "cell_type": "markdown",
   "metadata": {
    "id": "C7hjiY-u8F4O"
   },
   "source": [
    "## Question 2: (A) Display a list of the columns in the Spark DataFrame and then (B) print the first 5 rows "
   ]
  },
  {
   "cell_type": "code",
   "execution_count": 7,
   "metadata": {
    "colab": {
     "base_uri": "https://localhost:8080/"
    },
    "executionInfo": {
     "elapsed": 7,
     "status": "ok",
     "timestamp": 1677519931837,
     "user": {
      "displayName": "Reza Rad",
      "userId": "10585007686252894559"
     },
     "user_tz": 300
    },
    "id": "fiaAPiKM8XRr",
    "outputId": "4dcf33b6-e6ce-426b-a117-1c1ae85e9e63",
    "tags": []
   },
   "outputs": [
    {
     "name": "stdout",
     "output_type": "stream",
     "text": [
      "serial_number\n",
      "list_year\n",
      "date_recorded\n",
      "town\n",
      "address\n",
      "assessed_value\n",
      "sale_amount\n",
      "sales_ratio\n",
      "property_type\n",
      "residential_type\n",
      "non_use_code\n",
      "assessor_remarks\n",
      "opm_remarks\n",
      "location\n"
     ]
    }
   ],
   "source": [
    "# A. list of columns\n",
    "for column in df.columns:\n",
    "    print(column)"
   ]
  },
  {
   "cell_type": "code",
   "execution_count": 8,
   "metadata": {
    "colab": {
     "base_uri": "https://localhost:8080/"
    },
    "executionInfo": {
     "elapsed": 2029,
     "status": "ok",
     "timestamp": 1677519938200,
     "user": {
      "displayName": "Reza Rad",
      "userId": "10585007686252894559"
     },
     "user_tz": 300
    },
    "id": "OeM4TdO5-pde",
    "outputId": "b264fac9-d49b-4bc9-9ef1-efc91bd7853f",
    "scrolled": true,
    "tags": []
   },
   "outputs": [
    {
     "name": "stdout",
     "output_type": "stream",
     "text": [
      "+-------------+---------+-------------+-------+--------------------+--------------+-----------+-----------+-------------+----------------+------------+----------------+-----------+--------+\n",
      "|serial_number|list_year|date_recorded|   town|             address|assessed_value|sale_amount|sales_ratio|property_type|residential_type|non_use_code|assessor_remarks|opm_remarks|location|\n",
      "+-------------+---------+-------------+-------+--------------------+--------------+-----------+-----------+-------------+----------------+------------+----------------+-----------+--------+\n",
      "|      2020348|     2020|   09/13/2021|Ansonia|     230 WAKELEE AVE|      150500.0|   325000.0|      0.463|   Commercial|            NULL|        NULL|            NULL|       NULL|    NULL|\n",
      "|        20002|     2020|   10/02/2020|Ashford|     390 TURNPIKE RD|      253000.0|   430000.0|     0.5883|  Residential|   Single Family|        NULL|            NULL|       NULL|    NULL|\n",
      "|       200212|     2020|   03/09/2021|   Avon|    5 CHESTNUT DRIVE|      130400.0|   179900.0|     0.7248|  Residential|           Condo|        NULL|            NULL|       NULL|    NULL|\n",
      "|       200243|     2020|   04/13/2021|   Avon|111 NORTHINGTON D...|      619290.0|   890000.0|     0.6958|  Residential|   Single Family|        NULL|            NULL|       NULL|    NULL|\n",
      "|       200377|     2020|   07/02/2021|   Avon|  70 FAR HILLS DRIVE|      862330.0|  1447500.0|     0.5957|  Residential|   Single Family|        NULL|            NULL|       NULL|    NULL|\n",
      "+-------------+---------+-------------+-------+--------------------+--------------+-----------+-----------+-------------+----------------+------------+----------------+-----------+--------+\n",
      "only showing top 5 rows\n",
      "\n"
     ]
    }
   ],
   "source": [
    "# B. first 5 rows\n",
    "\n",
    "df.show(5)\n"
   ]
  },
  {
   "cell_type": "markdown",
   "metadata": {
    "id": "1qCSUmbV8KlE"
   },
   "source": [
    "## Question 3: Convert the `date_recorded` column to a date field "
   ]
  },
  {
   "cell_type": "code",
   "execution_count": 17,
   "metadata": {
    "id": "onRlOvTq8g6S",
    "tags": []
   },
   "outputs": [
    {
     "name": "stdout",
     "output_type": "stream",
     "text": [
      "+-------------+---------+-------------+----------+--------------------+--------------+-----------+-----------+-------------+----------------+------------------+--------------------+-----------+--------------------+\n",
      "|serial_number|list_year|date_recorded|      town|             address|assessed_value|sale_amount|sales_ratio|property_type|residential_type|      non_use_code|    assessor_remarks|opm_remarks|            location|\n",
      "+-------------+---------+-------------+----------+--------------------+--------------+-----------+-----------+-------------+----------------+------------------+--------------------+-----------+--------------------+\n",
      "|      2020348|     2020|         NULL|   Ansonia|     230 WAKELEE AVE|      150500.0|   325000.0|      0.463|   Commercial|            NULL|              NULL|                NULL|       NULL|                NULL|\n",
      "|        20002|     2020|         NULL|   Ashford|     390 TURNPIKE RD|      253000.0|   430000.0|     0.5883|  Residential|   Single Family|              NULL|                NULL|       NULL|                NULL|\n",
      "|       200212|     2020|         NULL|      Avon|    5 CHESTNUT DRIVE|      130400.0|   179900.0|     0.7248|  Residential|           Condo|              NULL|                NULL|       NULL|                NULL|\n",
      "|       200243|     2020|         NULL|      Avon|111 NORTHINGTON D...|      619290.0|   890000.0|     0.6958|  Residential|   Single Family|              NULL|                NULL|       NULL|                NULL|\n",
      "|       200377|     2020|         NULL|      Avon|  70 FAR HILLS DRIVE|      862330.0|  1447500.0|     0.5957|  Residential|   Single Family|              NULL|                NULL|       NULL|                NULL|\n",
      "|       200109|     2020|         NULL|      Avon|  57 FAR HILLS DRIVE|      847520.0|  1250000.0|      0.678|  Residential|   Single Family|              NULL|                NULL|       NULL|                NULL|\n",
      "|      2020180|     2020|         NULL|    Berlin| 1539 FARMINGTON AVE|      234200.0|   130000.0|     1.8015|  Residential|      Two Family|08 - Part Interest|                NULL|       NULL|                NULL|\n",
      "|      2020313|     2020|         NULL|    Berlin|   216 WATCH HILL RD|      412000.0|   677500.0|     0.6081|  Residential|   Single Family|              NULL|                NULL|       NULL|                NULL|\n",
      "|       200097|     2020|         NULL|   Bethany|         23 AMITY RD|      511000.0|   795000.0|     0.6427|   Commercial|            NULL|              NULL|                NULL|       NULL|                NULL|\n",
      "|        20139|     2020|         NULL|    Bethel|   16 DEEPWOOD DRIVE|      171360.0|   335000.0|     0.5115|  Residential|   Single Family|              NULL|                NULL|       NULL|                NULL|\n",
      "|       200086|     2020|         NULL| Bethlehem|      39 WOODLAND RD|      168900.0|   352000.0|     0.4798|  Residential|   Single Family|              NULL|                NULL|       NULL|POINT (-73.18197 ...|\n",
      "|      2000381|     2020|         NULL|Bloomfield|      9 SADDLE RIDGE|      163730.0|   250000.0|     0.6549|  Residential|           Condo|              NULL|                NULL|       NULL|                NULL|\n",
      "|       200258|     2020|         NULL|  Branford|34 SUNRISE COVE CAMP|      530500.0|   700000.0|     0.7578|  Residential|   Single Family|              NULL|WATERFRONT/COTTAG...|       NULL|                NULL|\n",
      "|       200804|     2020|         NULL|  Branford|    119 MONTOWESE ST|      455100.0|   650000.0|     0.7001|   Commercial|            NULL|              NULL|                NULL|       NULL|                NULL|\n",
      "|       201295|     2020|         NULL|   Bristol|         609 CAMP ST|      144340.0|   249900.0|     0.5775|  Residential|   Single Family|              NULL|                NULL|       NULL|                NULL|\n",
      "|       200032|     2020|         NULL|   Bristol|      9 LESLIE COURT|       94920.0|   155000.0|     0.6123|  Residential|   Single Family|              NULL|                NULL|       NULL|                NULL|\n",
      "|       200354|     2020|         NULL|   Bristol|      391 TIFFANY LA|      173740.0|   299000.0|      0.581|  Residential|   Single Family|              NULL|                NULL|       NULL|                NULL|\n",
      "|       200527|     2020|         NULL|   Bristol|          25 WARD ST|       85680.0|   183000.0|     0.4681|  Residential|      Two Family|              NULL|                NULL|       NULL|                NULL|\n",
      "|       201212|     2020|         NULL|   Bristol|     8 JENNINGS TERR|       88060.0|    91000.0|     0.9676|  Residential|   Single Family|  14 - Foreclosure|FORECLOSURE SALE ...|       NULL|                NULL|\n",
      "|     20000050|     2020|         NULL|Brookfield|        4 CHELSEA CT|      105110.0|   160000.0|  0.6569375|  Residential|           Condo|              NULL|                NULL|       NULL|                NULL|\n",
      "+-------------+---------+-------------+----------+--------------------+--------------+-----------+-----------+-------------+----------------+------------------+--------------------+-----------+--------------------+\n",
      "only showing top 20 rows\n",
      "\n"
     ]
    }
   ],
   "source": [
    "from pyspark.sql.functions import to_date\n",
    "\n",
    "# write your solution here\n",
    "\n",
    "# df = df.withColumn(\"date_recorded\", to_date(\"date_recorded\", \"MM/DD/YYYY\"))\n",
    "\n",
    "df.show()"
   ]
  },
  {
   "cell_type": "markdown",
   "metadata": {
    "id": "I5JGFUtmhMhF"
   },
   "source": [
    "## Question 4: How many `Condo` listings are in the dataset? "
   ]
  },
  {
   "cell_type": "code",
   "execution_count": 12,
   "metadata": {
    "colab": {
     "base_uri": "https://localhost:8080/"
    },
    "executionInfo": {
     "elapsed": 859,
     "status": "ok",
     "timestamp": 1677520164152,
     "user": {
      "displayName": "Reza Rad",
      "userId": "10585007686252894559"
     },
     "user_tz": 300
    },
    "id": "swtyHNmO7WVW",
    "outputId": "c95d8566-3356-4a56-fd94-c34663742447",
    "tags": []
   },
   "outputs": [
    {
     "name": "stdout",
     "output_type": "stream",
     "text": [
      "Number of Condo listings: 117780\n"
     ]
    }
   ],
   "source": [
    "# write your solution here\n",
    "\n",
    "condo_count = df.filter(df[\"residential_type\"] == \"Condo\").count()\n",
    "\n",
    "print(f\"Number of Condo listings: {condo_count}\")"
   ]
  },
  {
   "cell_type": "markdown",
   "metadata": {
    "id": "azQqfaXe8LOr"
   },
   "source": [
    "## Question 5: What is the average sales price by `property_type`, sorted by most expensive to least expensive?"
   ]
  },
  {
   "cell_type": "code",
   "execution_count": 15,
   "metadata": {
    "colab": {
     "base_uri": "https://localhost:8080/"
    },
    "executionInfo": {
     "elapsed": 768,
     "status": "ok",
     "timestamp": 1677520361850,
     "user": {
      "displayName": "Reza Rad",
      "userId": "10585007686252894559"
     },
     "user_tz": 300
    },
    "id": "6yQn7wvX75i8",
    "outputId": "e92db6ef-b930-4b4a-b9ba-0deeaacca69e",
    "tags": []
   },
   "outputs": [
    {
     "name": "stdout",
     "output_type": "stream",
     "text": [
      "+----------------+-------------------+\n",
      "|residential_type|average_sales_price|\n",
      "+----------------+-------------------+\n",
      "|            NULL|  435971.4810972962|\n",
      "|   Single Family| 400790.31355674827|\n",
      "|     Four Family| 314931.85773366416|\n",
      "|           Condo| 277243.99986415345|\n",
      "|      Two Family| 206955.76536897567|\n",
      "|    Three Family| 203695.50235636675|\n",
      "+----------------+-------------------+\n",
      "\n"
     ]
    }
   ],
   "source": [
    "# write your solution here\n",
    "\n",
    "\n",
    "average_sales_by_type = df.groupBy(\"residential_type\").mean(\"sale_amount\") \\\n",
    "    .withColumnRenamed(\"avg(sale_amount)\", \"average_sales_price\") \\\n",
    "    .orderBy(\"average_sales_price\", ascending=False)\n",
    "\n",
    "# Show the result\n",
    "average_sales_by_type.show()"
   ]
  },
  {
   "cell_type": "markdown",
   "metadata": {
    "id": "eUb6oG3gAiuJ"
   },
   "source": [
    "## Question 6: How many properties sold for higher than their assessed value?"
   ]
  },
  {
   "cell_type": "code",
   "execution_count": 16,
   "metadata": {
    "colab": {
     "base_uri": "https://localhost:8080/"
    },
    "executionInfo": {
     "elapsed": 545,
     "status": "ok",
     "timestamp": 1677520494168,
     "user": {
      "displayName": "Reza Rad",
      "userId": "10585007686252894559"
     },
     "user_tz": 300
    },
    "id": "F_eUwkztggad",
    "outputId": "32679824-551f-4108-a843-088bdc87759d",
    "tags": []
   },
   "outputs": [
    {
     "name": "stdout",
     "output_type": "stream",
     "text": [
      "Number of properties sold for higher than their assessed value: 863941\n"
     ]
    }
   ],
   "source": [
    "# write your solution here\n",
    "\n",
    "\n",
    "higher_sales = df.filter(df[\"sale_amount\"] > df[\"assessed_value\"])\n",
    "\n",
    "\n",
    "count_higher_sales = higher_sales.count()\n",
    "\n",
    "\n",
    "print(f\"Number of properties sold for higher than their assessed value: {count_higher_sales}\")"
   ]
  },
  {
   "cell_type": "markdown",
   "metadata": {
    "id": "I_WKpwMrhdyK"
   },
   "source": [
    "## Question 7: How have real estate sale prices changed over time?\n",
    "(This question is intentionally vague, use your creativity to intepret and answer accordingly!)"
   ]
  },
  {
   "cell_type": "code",
   "execution_count": 19,
   "metadata": {},
   "outputs": [
    {
     "name": "stdout",
     "output_type": "stream",
     "text": [
      "Correlation between list year and sale amount: 0.6111443097825379\n"
     ]
    },
    {
     "data": {
      "image/png": "[encoded data removed]",
      "text/plain": [
       "<Figure size 640x480 with 1 Axes>"
      ]
     },
     "metadata": {},
     "output_type": "display_data"
    }
   ],
   "source": [
    "import matplotlib.pyplot as plt\n",
    "import pandas as pd\n",
    "from pyspark.sql.functions import avg\n",
    "\n",
    "# Calculate the average sales price for each year\n",
    "average_price_by_year = df.groupBy(\"list_year\").agg(avg(\"sale_amount\").alias(\"average_sales_price\")) \\\n",
    "    .orderBy(\"list_year\").toPandas()\n",
    "\n",
    "# Calculate the correlation coefficient\n",
    "correlation = average_price_by_year['list_year'].corr(average_price_by_year['average_sales_price'])\n",
    "\n",
    "# Print the correlation coefficient\n",
    "print(f\"Correlation between list year and sale amount: {correlation}\")\n",
    "\n",
    "# Create a line plot to visualize the trend\n",
    "plt.plot(average_price_by_year['list_year'], average_price_by_year['average_sales_price'])\n",
    "plt.xlabel(\"List Year\")\n",
    "plt.ylabel(\"Average Sale Amount\")\n",
    "plt.title(\"Real Estate Sale Prices Over Time\")\n",
    "plt.show()"
   ]
  },
  {
   "cell_type": "code",
   "execution_count": null,
   "metadata": {},
   "outputs": [],
   "source": []
  }
 ],
 "metadata": {
  "colab": {
   "authorship_tag": "ABX9TyNrSpfy0rZHebtgAZSvWFNv",
   "mount_file_id": "19wAcxTDatAkscN7n3RaL-SsU6xqGDYn9",
   "provenance": []
  },
  "kernelspec": {
   "display_name": "Python 3 (ipykernel)",
   "language": "python",
   "name": "python3"
  },
  "language_info": {
   "codemirror_mode": {
    "name": "ipython",
    "version": 3
   },
   "file_extension": ".py",
   "mimetype": "text/x-python",
   "name": "python",
   "nbconvert_exporter": "python",
   "pygments_lexer": "ipython3",
   "version": "3.11.6"
  }
 },
 "nbformat": 4,
 "nbformat_minor": 4
}
